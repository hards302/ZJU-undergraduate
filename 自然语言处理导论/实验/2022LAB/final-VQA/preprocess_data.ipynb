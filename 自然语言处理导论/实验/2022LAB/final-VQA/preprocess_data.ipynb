{
 "cells": [
  {
   "cell_type": "markdown",
   "metadata": {},
   "source": [
    "# Create Dataset"
   ]
  },
  {
   "cell_type": "markdown",
   "metadata": {},
   "source": [
    "1. Install clip-server ans clip-client from `https://clip-as-service.jina.ai/`\n",
    "2. Run clip-server on a terminal\n",
    "3. Run code below"
   ]
  },
  {
   "cell_type": "markdown",
   "metadata": {},
   "source": [
    "### Preprocess data"
   ]
  },
  {
   "cell_type": "code",
   "execution_count": 5,
   "metadata": {},
   "outputs": [
    {
     "name": "stdout",
     "output_type": "stream",
     "text": [
      "┌────────── 🆕 New version available! ───────────┐\n",
      "│ You are using clip_client 0.4.12, but 0.4.20   │\n",
      "│ is available. You may upgrade it via pip       │\n",
      "│ install -U clip_client. Read Changelog here.   │\n",
      "└────────────────────────────────────────────────┘\n"
     ]
    }
   ],
   "source": [
    "import json\n",
    "from clip_client import Client\n",
    "import os\n",
    "\n",
    "data_dir = './'"
   ]
  },
  {
   "cell_type": "code",
   "execution_count": 8,
   "metadata": {},
   "outputs": [
    {
     "name": "stdout",
     "output_type": "stream",
     "text": [
      "32013 24160 15718\n"
     ]
    }
   ],
   "source": [
    "# clean the data, check images' existance\n",
    "\n",
    "dirInfo = os.walk(data_dir+'images/test')\n",
    "test_filelist = []\n",
    "for root, dirs, files in dirInfo:\n",
    "    test_filelist = files\n",
    "\n",
    "dirInfo = os.walk(data_dir+'images/val')\n",
    "val_filelist = []\n",
    "for root, dirs, files in dirInfo:\n",
    "    val_filelist = files\n",
    "\n",
    "dirInfo = os.walk(data_dir+'images/train')\n",
    "train_filelist = []\n",
    "for root, dirs, files in dirInfo:\n",
    "    train_filelist = files\n",
    "\n",
    "print(len(train_filelist), len(val_filelist), len(test_filelist))"
   ]
  },
  {
   "cell_type": "code",
   "execution_count": 9,
   "metadata": {},
   "outputs": [],
   "source": [
    "# create labels\n",
    "label_dict = {}\n",
    "label_dict_reverse = {}\n",
    "\n",
    "test_annotations_json = json.load(open(\"annotations/test.json\", \"r\"))[\"annotations\"]\n",
    "val_annotations_json = json.load(open(\"annotations/val.json\", \"r\"))[\"annotations\"]\n",
    "train_annotations_json = json.load(open(\"annotations/train.json\", \"r\"))[\"annotations\"]\n",
    "trainval_json = val_annotations_json+train_annotations_json\n",
    "\n",
    "trainval_questionid2label = {}\n",
    "test_questionid2label = {}\n",
    "i = 0\n",
    "for item in trainval_json:\n",
    "    if(item[\"multiple_choice_answer\"] not in label_dict.keys()):\n",
    "        label_dict[item[\"multiple_choice_answer\"]] = i\n",
    "        label_dict_reverse[i] = item[\"multiple_choice_answer\"]\n",
    "        i+=1\n",
    "    trainval_questionid2label[item[\"question_id\"]] = label_dict[item[\"multiple_choice_answer\"]]\n",
    "for item in test_annotations_json:\n",
    "    if(item[\"multiple_choice_answer\"] not in label_dict.keys()):\n",
    "        label_dict[item[\"multiple_choice_answer\"]] = i\n",
    "        label_dict_reverse[i] = item[\"multiple_choice_answer\"]\n",
    "        i+=1\n",
    "    test_questionid2label[item[\"question_id\"]] = label_dict[item[\"multiple_choice_answer\"]]\n"
   ]
  },
  {
   "cell_type": "code",
   "execution_count": 10,
   "metadata": {},
   "outputs": [],
   "source": [
    "# store labels\n",
    "json.dump(label_dict, open(data_dir + \"label2id_dict.json\", \"w\"), indent=2)\n",
    "json.dump(label_dict_reverse, open(data_dir + \"id2label_dict.json\", \"w\"), indent=2)"
   ]
  },
  {
   "cell_type": "markdown",
   "metadata": {},
   "source": [
    "### Get embeddings"
   ]
  },
  {
   "cell_type": "code",
   "execution_count": null,
   "metadata": {},
   "outputs": [],
   "source": [
    "# get embeddings\n",
    "test_question_json = json.load(open(\"questions/test.json\"))[\"questions\"]\n",
    "val_question_json = json.load(open(\"questions/val.json\"))[\"questions\"]\n",
    "train_question_json = json.load(open(\"questions/train.json\"))[\"questions\"]\n",
    "\n",
    "label_dict = json.load(open(data_dir + \"label2id_dict.json\", \"r\"))\n",
    "label_dict_reverse = json.load(open(data_dir + \"id2label_dict.json\", \"r\"))\n",
    "\n",
    "c = Client('grpc://127.0.0.1:51000')\n",
    "c.profile(\"\")"
   ]
  },
  {
   "cell_type": "code",
   "execution_count": 12,
   "metadata": {},
   "outputs": [
    {
     "name": "stdout",
     "output_type": "stream",
     "text": [
      "0 21304\n"
     ]
    }
   ],
   "source": [
    "\n",
    "test = {\"questions\": [], \"images\": [], \"answer\": []}\n",
    "trainval = {\"questions\": [], \"images\": [], \"answer\": []}\n",
    "#test\n",
    "test_files = []\n",
    "test_questions = []\n",
    "test_rm_index = []\n",
    "for index, item in enumerate(test_question_json):\n",
    "    image_name = \"COCO_val2014_{}.jpg\".format(str(item[\"image_id\"]).zfill(12))\n",
    "    if(image_name not in test_filelist):\n",
    "        test_rm_index.append(index)\n",
    "        continue\n",
    "    test[\"questions\"].append(item[\"question\"])\n",
    "    test[\"images\"].append(data_dir+\"images/test/%s\"%(image_name))\n",
    "    test[\"answer\"].append(test_questionid2label[int(item[\"question_id\"])])\n",
    "# trainval\n",
    "trainval_files = []\n",
    "trainval_questions = []\n",
    "trainval_rm_index = []\n",
    "for index, item in enumerate(val_question_json):\n",
    "    image_name = \"COCO_val2014_{}.jpg\".format(str(item[\"image_id\"]).zfill(12))\n",
    "    if(image_name not in val_filelist):\n",
    "        trainval_rm_index.append(index)\n",
    "        continue\n",
    "    trainval[\"questions\"].append(item[\"question\"])\n",
    "    trainval[\"images\"].append(data_dir+\"images/val/%s\"%(image_name))\n",
    "    trainval[\"answer\"].append(trainval_questionid2label[int(item[\"question_id\"])])\n",
    "\n",
    "for index, item in enumerate(train_question_json):\n",
    "    image_name = \"COCO_train2014_{}.jpg\".format(str(item[\"image_id\"]).zfill(12))\n",
    "    if(image_name not in train_filelist):\n",
    "        trainval_rm_index.append(index)\n",
    "        continue\n",
    "    trainval[\"questions\"].append(item[\"question\"])\n",
    "    trainval[\"images\"].append(data_dir+\"images/train/%s\"%(image_name))\n",
    "    trainval[\"answer\"].append(trainval_questionid2label[int(item[\"question_id\"])])\n",
    "\n",
    "print(len(test_rm_index), len(trainval_rm_index))\n"
   ]
  },
  {
   "cell_type": "code",
   "execution_count": null,
   "metadata": {},
   "outputs": [],
   "source": [
    "# embedding, this will take a long time\n",
    "test[\"ques_emb\"] = c.encode(test[\"questions\"], show_progress=True).tolist()\n",
    "json.dump(test, open(data_dir+\"test.json\", \"w\"), indent=2)\n",
    "print(\"finish 1\")\n",
    "\n",
    "test[\"img_emb\"] = c.encode(test[\"images\"], show_progress=True).tolist()\n",
    "json.dump(test, open(data_dir+\"test.json\", \"w\"), indent=2)\n",
    "print(\"finish 2\")\n",
    "\n",
    "trainval[\"ques_emb\"] = c.encode(trainval[\"questions\"], show_progress=True).tolist()\n",
    "json.dump(trainval, open(data_dir+\"trainval.json\", \"w\"), indent=2)\n",
    "print(\"finish 3\")\n",
    "\n",
    "trainval[\"img_emb\"] = c.encode(trainval[\"images\"], show_progress=True).tolist()\n",
    "json.dump(trainval, open(data_dir+\"trainval.json\", \"w\"), indent=2)\n",
    "print(\"finish 4\")\n",
    "\n",
    "print(\"finish all\")"
   ]
  },
  {
   "cell_type": "markdown",
   "metadata": {},
   "source": [
    "### Create Mindrecord"
   ]
  },
  {
   "cell_type": "code",
   "execution_count": 2,
   "metadata": {},
   "outputs": [],
   "source": [
    "from mindspore.mindrecord import FileWriter\n",
    "from mindspore import context\n",
    "import json\n",
    "import numpy as np\n",
    "\n",
    "context.set_context(mode=context.PYNATIVE_MODE, save_graphs=False, device_target='CPU')"
   ]
  },
  {
   "cell_type": "code",
   "execution_count": 3,
   "metadata": {},
   "outputs": [],
   "source": [
    "def create_mindrecord(name:str):\n",
    "    test_data = json.load(open(data_dir+name+\".json\", \"r\"))\n",
    "    print(\"load done\")\n",
    "    # load数据\n",
    "    writer = FileWriter(data_dir+name+\".mindrecord\", shard_num=1, overwrite=True)\n",
    "    # 设置schema\n",
    "    schema_json = {\n",
    "        \"ques_emb\": {\"type\": \"float32\", \"shape\": [512]}, \n",
    "        \"img_emb\": {\"type\": \"float32\", \"shape\": [512]}, \n",
    "        \"label\": {\"type\": \"int32\"},\n",
    "        }\n",
    "    writer.add_schema(schema_json, name+\"_schema\")\n",
    "    # 处理数据\n",
    "    data_list = []\n",
    "    for ques_emb, img_emb, label in zip(test_data[\"ques_emb\"], test_data[\"img_emb\"], test_data[\"answer\"]):\n",
    "        data_json = {\n",
    "            \"ques_emb\": np.array(ques_emb),\n",
    "            \"img_emb\": np.array(img_emb),\n",
    "            \"label\": int(label)\n",
    "        }\n",
    "        data_list.append(data_json)\n",
    "\n",
    "    writer.write_raw_data(data_list)\n",
    "    writer.commit()\n",
    "    print(\"finish\", len(data_list))"
   ]
  },
  {
   "cell_type": "code",
   "execution_count": 6,
   "metadata": {},
   "outputs": [
    {
     "name": "stdout",
     "output_type": "stream",
     "text": [
      "load done\n",
      "finish 21435\n"
     ]
    }
   ],
   "source": [
    "create_mindrecord(\"test\")"
   ]
  },
  {
   "cell_type": "code",
   "execution_count": 22,
   "metadata": {},
   "outputs": [
    {
     "name": "stdout",
     "output_type": "stream",
     "text": [
      "load done\n",
      "finish 44506\n"
     ]
    }
   ],
   "source": [
    "create_mindrecord(\"trainval\")"
   ]
  },
  {
   "cell_type": "code",
   "execution_count": null,
   "metadata": {},
   "outputs": [],
   "source": []
  }
 ],
 "metadata": {
  "kernelspec": {
   "display_name": "Python 3.9.12 64-bit",
   "language": "python",
   "name": "python3"
  },
  "language_info": {
   "codemirror_mode": {
    "name": "ipython",
    "version": 3
   },
   "file_extension": ".py",
   "mimetype": "text/x-python",
   "name": "python",
   "nbconvert_exporter": "python",
   "pygments_lexer": "ipython3",
   "version": "3.9.12"
  },
  "orig_nbformat": 4,
  "vscode": {
   "interpreter": {
    "hash": "57adb5802fb0f8cfd5535bab284b845a3df436c091fabcc1c6f978836181b2be"
   }
  }
 },
 "nbformat": 4,
 "nbformat_minor": 2
}
